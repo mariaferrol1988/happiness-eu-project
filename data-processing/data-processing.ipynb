{
 "cells": [
  {
   "cell_type": "markdown",
   "metadata": {},
   "source": [
    "# Data Preparation\n",
    "\n",
    "1. Checking 2018 file\n",
    "2. Checking 2013 file \n",
    "3. Indicator preparation \n",
    "4. Checking the rest of the files"
   ]
  },
  {
   "cell_type": "code",
   "execution_count": 214,
   "metadata": {},
   "outputs": [],
   "source": [
    "import numpy as np\n",
    "import pandas as pd\n",
    "pd.set_option('display.max_rows', None)\n",
    "pd.set_option('display.max_columns', None)"
   ]
  },
  {
   "cell_type": "code",
   "execution_count": 215,
   "metadata": {},
   "outputs": [],
   "source": [
    "# Función para generar strings con nombres de los ficheros cambiando el identificador del año \n",
    "# Definición de los campos: \n",
    "# pr: prefix - IE: './files/' - string\n",
    "# sb: subfix: IE: '_2013p_EUSILC.csv' - string\n",
    "# cr: country IE: ['LT'...] - list\n",
    "def filelist(st1,st2,cr): \n",
    "    filelist = []\n",
    "    for s in cr:\n",
    "        filename = st1 + s + st2\n",
    "        filelist.append(filename)\n",
    "    return filelist\n",
    "\n",
    "# Función para concatenar los ficheros de los distintos años en un sólo fichero - adaptar y revisar\n",
    "def concatenated_df(df_list, var_list):\n",
    "    df_temp = pd.DataFrame()\n",
    "    for file in df_list:\n",
    "        df = pd.read_csv(file , usecols = var_list, low_memory = False)\n",
    "        if df_temp.shape == (0,0):\n",
    "            df_temp = df\n",
    "        else: \n",
    "            df_temp = pd.concat([df_temp,df])\n",
    "    return df_temp"
   ]
  },
  {
   "cell_type": "code",
   "execution_count": 216,
   "metadata": {},
   "outputs": [],
   "source": [
    "# Application to open dfs\n",
    "\n",
    "cr_list = ['LT','FR','ES','DE','BG'] # List with the prefix of the dfs\n",
    "d_filelist = filelist('./files/','_2013p_EUSILC.csv',cr_list) # udf application to obtain the list of names\n",
    "myvar_list = ['PB010','PB020','PB030','PB040','PB060','PB100','PB110','PB120','PB130', # list of usecols to be used\n",
    " 'PB140','PB150','PB190','PB200','PB220A','PE010','PE020','PE040','PL031',\n",
    " 'PL035','PL015','PL020','PL025','PL040','PL051','PL060','PL100', 'PL111',\n",
    " 'PL120','PL130','PL140','PL150','PL160','PL170','PL180','PL190', 'PH010',\n",
    " 'PH020','PH030','PH040','PH050','PH060','PH070','PY020N','PY035N',\n",
    " 'PY010G','PY020G','PY021G','PY030G','PY031G','PY035G','PY050G','PY080G',\n",
    " 'PY090G','PY100G','PY110G','PY120G','PY130G','PY140G','PY200G','PD020',\n",
    " 'PD030','PD050','PD060','PD070','PD080','PD090','PW010','PW020','PW030',\n",
    " 'PW040','PW050','PW060','PW070','PW080','PW090','PW100','PW110','PW120',\n",
    " 'PW130','PW140','PW150','PW160','PW170','PW180','PW190','PW200','PW210',\n",
    " 'PW220','PX010','PX020','PX030','PX040','PX050','PX200']\n",
    "df_temp = concatenated_df(d_filelist, myvar_list) # udf to open files and concatenate then into a df"
   ]
  },
  {
   "cell_type": "code",
   "execution_count": 218,
   "metadata": {},
   "outputs": [],
   "source": []
  },
  {
   "cell_type": "code",
   "execution_count": 219,
   "metadata": {},
   "outputs": [],
   "source": []
  },
  {
   "cell_type": "code",
   "execution_count": null,
   "metadata": {},
   "outputs": [],
   "source": []
  },
  {
   "cell_type": "code",
   "execution_count": null,
   "metadata": {},
   "outputs": [],
   "source": []
  },
  {
   "cell_type": "code",
   "execution_count": null,
   "metadata": {},
   "outputs": [],
   "source": []
  },
  {
   "cell_type": "code",
   "execution_count": null,
   "metadata": {},
   "outputs": [],
   "source": []
  },
  {
   "cell_type": "code",
   "execution_count": null,
   "metadata": {},
   "outputs": [],
   "source": []
  },
  {
   "cell_type": "code",
   "execution_count": null,
   "metadata": {},
   "outputs": [],
   "source": []
  },
  {
   "cell_type": "code",
   "execution_count": null,
   "metadata": {},
   "outputs": [],
   "source": []
  },
  {
   "cell_type": "code",
   "execution_count": null,
   "metadata": {},
   "outputs": [],
   "source": []
  },
  {
   "cell_type": "code",
   "execution_count": null,
   "metadata": {},
   "outputs": [],
   "source": []
  },
  {
   "cell_type": "markdown",
   "metadata": {},
   "source": [
    "sources: https://ec.europa.eu/eurostat/web/microdata/statistics-on-income-and-living-conditions"
   ]
  },
  {
   "cell_type": "code",
   "execution_count": null,
   "metadata": {},
   "outputs": [],
   "source": []
  }
 ],
 "metadata": {
  "kernelspec": {
   "display_name": "Python 3",
   "language": "python",
   "name": "python3"
  },
  "language_info": {
   "codemirror_mode": {
    "name": "ipython",
    "version": 3
   },
   "file_extension": ".py",
   "mimetype": "text/x-python",
   "name": "python",
   "nbconvert_exporter": "python",
   "pygments_lexer": "ipython3",
   "version": "3.7.4"
  }
 },
 "nbformat": 4,
 "nbformat_minor": 2
}
