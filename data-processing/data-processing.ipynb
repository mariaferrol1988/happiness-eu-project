{
 "cells": [
  {
   "cell_type": "markdown",
   "metadata": {},
   "source": [
    "# Data Preparation\n",
    "\n",
    "1. Checking 2018 file\n",
    "2. Checking 2013 file \n",
    "3. Indicator preparation \n",
    "4. Checking the rest of the files"
   ]
  },
  {
   "cell_type": "code",
   "execution_count": 2,
   "metadata": {},
   "outputs": [],
   "source": [
    "import numpy as np\n",
    "import pandas as pd\n",
    "pd.set_option('display.max_rows', None)\n",
    "pd.set_option('display.max_columns', None)"
   ]
  },
  {
   "cell_type": "code",
   "execution_count": 8,
   "metadata": {},
   "outputs": [
    {
     "name": "stderr",
     "output_type": "stream",
     "text": [
      "/home/mariacarrasco/anaconda3/lib/python3.7/site-packages/IPython/core/interactiveshell.py:3058: DtypeWarning: Columns (196) have mixed types.Specify dtype option on import or set low_memory=False.\n",
      "  interactivity=interactivity, compiler=compiler, result=result)\n"
     ]
    }
   ],
   "source": [
    "# Read the dataframe - to improve the fact reading dataframes and changing name\n",
    "\n",
    "dft1 = pd.read_csv('./files/LT_2013p_EUSILC.csv')\n",
    "dft2 = pd.read_csv('./files/FR_2013p_EUSILC.csv')\n",
    "dft3 = pd.read_csv('./files/ES_2013p_EUSILC.csv')\n",
    "dft4 = pd.read_csv('./files/DE_2013p_EUSILC.csv')\n",
    "dft5 = pd.read_csv('./files/BG_2013p_EUSILC.csv')"
   ]
  },
  {
   "cell_type": "code",
   "execution_count": 21,
   "metadata": {},
   "outputs": [
    {
     "name": "stdout",
     "output_type": "stream",
     "text": [
      "dft1: 94\n",
      "dft2: 284\n",
      "dft3: 94\n",
      "dft4: 284\n",
      "dft5: 94\n"
     ]
    }
   ],
   "source": [
    "# Some of the dataset have higher number of variables, however this is related to the \n",
    "# fact that the dataframes are related to different years 94 four is the number of expected columns\n",
    "\n",
    "df_list = [dft,dft2,dft3,dft4,dft5]\n",
    "counter = 1 \n",
    "for df in df_list:\n",
    "    print('dft'+ str(counter) + ': ' +str(len(df.columns)))\n",
    "    counter += 1"
   ]
  },
  {
   "cell_type": "code",
   "execution_count": null,
   "metadata": {},
   "outputs": [],
   "source": []
  }
 ],
 "metadata": {
  "kernelspec": {
   "display_name": "Python 3",
   "language": "python",
   "name": "python3"
  },
  "language_info": {
   "codemirror_mode": {
    "name": "ipython",
    "version": 3
   },
   "file_extension": ".py",
   "mimetype": "text/x-python",
   "name": "python",
   "nbconvert_exporter": "python",
   "pygments_lexer": "ipython3",
   "version": "3.7.4"
  }
 },
 "nbformat": 4,
 "nbformat_minor": 2
}
